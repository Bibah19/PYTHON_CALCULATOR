{
 "cells": [
  {
   "cell_type": "markdown",
   "id": "0932f504",
   "metadata": {},
   "source": [
    "# PYTHON PROJECT\n",
    "\n",
    "## CALCULATOR "
   ]
  },
  {
   "cell_type": "code",
   "execution_count": 1,
   "id": "9cfa16c8",
   "metadata": {},
   "outputs": [
    {
     "name": "stdout",
     "output_type": "stream",
     "text": [
      "Select operation:\n",
      "1. Addition\n",
      "2. Subtraction\n",
      "3. Multiplication\n",
      "4. Division\n",
      "Enter choice (1/2/3/4): 1\n",
      "Enter first number: 34\n",
      "Enter second number: 65\n",
      "Result:  99.0\n"
     ]
    }
   ],
   "source": [
    "def add(y, z):\n",
    "    return y + z\n",
    "def subtract(y, z):\n",
    "    return y - z\n",
    "\n",
    "def multiply(y, z):\n",
    "    return y * z\n",
    "\n",
    "def divide(y, z):\n",
    "    if z == 0:\n",
    "        return \"cannot divide by zero.\"\n",
    "    return y / z\n",
    "\n",
    "def calculator():\n",
    "    print(\"Select operation:\")\n",
    "    print(\"1. Addition\")\n",
    "    print(\"2. Subtraction\")\n",
    "    print(\"3. Multiplication\")\n",
    "    print(\"4. Division\")\n",
    "\n",
    "    choice = input(\"Enter choice (1/2/3/4): \")\n",
    "\n",
    "    if choice in ['1', '2', '3', '4']:\n",
    "        num1 = float(input(\"Enter first number: \"))\n",
    "        num2 = float(input(\"Enter second number: \"))\n",
    "\n",
    "        if choice == '1':\n",
    "            print(\"Result: \", add(num1, num2))\n",
    "        elif choice == '2':\n",
    "            print(\"Result: \", subtract(num1, num2))\n",
    "        elif choice == '3':\n",
    "            print(\"Result: \", multiply(num1, num2))\n",
    "        elif choice == '4':\n",
    "            print(\"Result: \", divide(num1, num2))\n",
    "    else:\n",
    "        print(\"Invalid Input\")\n",
    "\n",
    "calculator()"
   ]
  }
 ],
 "metadata": {
  "kernelspec": {
   "display_name": "Python 3 (ipykernel)",
   "language": "python",
   "name": "python3"
  },
  "language_info": {
   "codemirror_mode": {
    "name": "ipython",
    "version": 3
   },
   "file_extension": ".py",
   "mimetype": "text/x-python",
   "name": "python",
   "nbconvert_exporter": "python",
   "pygments_lexer": "ipython3",
   "version": "3.10.9"
  }
 },
 "nbformat": 4,
 "nbformat_minor": 5
}
